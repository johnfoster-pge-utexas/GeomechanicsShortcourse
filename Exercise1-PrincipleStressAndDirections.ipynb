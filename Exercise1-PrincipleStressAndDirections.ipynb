{
 "cells": [
  {
   "cell_type": "markdown",
   "metadata": {},
   "source": [
    "# Problem 2 (30 points)\n",
    "\n",
    "Determine the principle stresses and directions for the following stress tensors:\n",
    "\n",
    " a. $$\\mathbf{S} = \\begin{bmatrix} 18 & 0 & 24 \\\\ 0 & -50 & 0 \\\\ 24 & 0 & 32 \\end{bmatrix}$$\n",
    " \n",
    " b. $$\\mathbf{S} = \\begin{bmatrix} 3 & -10 & 0 \\\\ -10 & 0 & 30 \\\\ 0 & 30 & -27 \\end{bmatrix}$$\n",
    " \n",
    " c. $$\\mathbf{S} = \\begin{bmatrix} 2 & -1 & 1 \\\\ -1 & 0 & 1 \\\\ 1 & 1 & -2 \\end{bmatrix}$$\n",
    " \n",
    " Work (a) by hand for practice.  You can use a computer to solve (b) and (c) if you wish.\n",
    " \n",
    " **Solution:**"
   ]
  },
  {
   "cell_type": "code",
   "execution_count": 1,
   "metadata": {},
   "outputs": [
    {
     "name": "stdout",
     "output_type": "stream",
     "text": [
      "Eigenvalues: \n",
      " [  0.  50. -50.]\n",
      "Eigenvectors: \n",
      " [[-0.8 -0.6  0. ]\n",
      " [ 0.   0.   1. ]\n",
      " [ 0.6 -0.8  0. ]]\n"
     ]
    }
   ],
   "source": [
    "import scipy.linalg\n",
    "import numpy as np\n",
    "\n",
    "values, vectors = scipy.linalg.eig(np.array([[18,0,24],[0, -50, 0],[24, 0, 32]]))\n",
    "print(\"Eigenvalues: \\n\", np.real(values))\n",
    "print(\"Eigenvectors: \\n\", vectors)"
   ]
  },
  {
   "cell_type": "code",
   "execution_count": 2,
   "metadata": {},
   "outputs": [
    {
     "name": "stdout",
     "output_type": "stream",
     "text": [
      "Eigenvalues: \n",
      " [  2.30000000e+01   2.66453526e-15  -4.70000000e+01]\n",
      "Eigenvectors: \n",
      " [[ 0.3940552   0.9124486  -0.11026357]\n",
      " [-0.78811041  0.27373458 -0.55131785]\n",
      " [-0.47286624  0.30414953  0.82697677]]\n"
     ]
    }
   ],
   "source": [
    "values, vectors = scipy.linalg.eig(np.array([[3,-10,0],[-10, 0, 30],[0, 30, -27]]))\n",
    "print(\"Eigenvalues: \\n\", np.real(values))\n",
    "print(\"Eigenvectors: \\n\", vectors)"
   ]
  },
  {
   "cell_type": "code",
   "execution_count": 3,
   "metadata": {},
   "outputs": [
    {
     "name": "stdout",
     "output_type": "stream",
     "text": [
      "Eigenvalues: \n",
      " [-2.77845712  2.48928857  0.28916855]\n",
      "Eigenvectors: \n",
      " [[ 0.26826216  0.93698901  0.22380127]\n",
      " [ 0.41025777 -0.32131516  0.85348997]\n",
      " [-0.87162146  0.13714285  0.47060372]]\n"
     ]
    }
   ],
   "source": [
    "values, vectors = scipy.linalg.eig(np.array([[2,-1,1],[-1, 0, 1],[1, 1, -2]]))\n",
    "print(\"Eigenvalues: \\n\", np.real(values))\n",
    "print(\"Eigenvectors: \\n\", vectors)"
   ]
  },
  {
   "cell_type": "markdown",
   "metadata": {},
   "source": [
    "# Problem 3 (40 points)\n",
    "\n",
    "The following table contains the estimated bulk mass densities as a function of depth for an offshore location in Brazil. Water depth is 500m. Measurements indicate that porosity of shale layers estimated through resistivity measurements.\n",
    "\n",
    "|Depth (m)| Bulk mass density (kg/m$^3$) | Shale porosity |\n",
    "|:-------:|:-------------------------:|:--------------:|\n",
    "| 0   | 1025 | | \n",
    "| 100 | 1026 | |\n",
    "| 200 | 1026 | |\n",
    "| 300 | 1030 | |\n",
    "| 400 | 1030 | |\n",
    "| 500 | 1031 | |\n",
    "| 600 | 1900 | |\n",
    "| 700 | 2190 | |\n",
    "| 800 | 2200 | |\n",
    "| 900 | 2230 | |\n",
    "| 1000| 2235 | |\n",
    "| 1100| 2240 | |\n",
    "| 1200| 2275 | 0.305 |\n",
    "| 1300| 2305 | 0.297 |\n",
    "| 1400| 2310 | 0.286 |\n",
    "| 1500| 2308 | 0.281 |\n",
    "| 1600| 2310 | 0.285 |\n",
    "| 1700| 2305 | 0.293 |\n",
    "| 1800| 2310 | 0.307 |\n",
    "| 1900| 2324 | 0.305 |\n",
    "| 2000| 2319 | 0.298 |\n",
    "\n",
    "\n",
    " a. Plot $S_v$ as a function of depth (in SI units)\n",
    "\n",
    " b. Plot hydrostatic water pressure as a function of depth. Assume the density of brine water is 1031 kg/m$^3$\n",
    "in the rock pore space (in SI units).\n",
    "\n",
    " c. Additional compaction lab measurements on shale cores indicate a good fit of the porosity-effective vertical stress relation through the equation $\\phi = \\phi_0 \\exp(-\\beta (S_v - P_p))$, with parameters $\\phi_0=0.38$ and $\\beta = 3 \\cdot 10^{-2}$ MPa$^{-1}$. Estimate the pore pressure in the shale. Is there overpressure? At what depth does it start?\n",
    "\n",
    " d. Plot vertical effective strees, $\\sigma_v^{eff}$ as a function of depth (in SI units)."
   ]
  },
  {
   "cell_type": "markdown",
   "metadata": {},
   "source": [
    "**Solution**"
   ]
  },
  {
   "cell_type": "code",
   "execution_count": 4,
   "metadata": {},
   "outputs": [
    {
     "data": {
      "image/png": "[encoded data removed]",
      "text/plain": [
       "<matplotlib.figure.Figure at 0x10d935358>"
      ]
     },
     "metadata": {},
     "output_type": "display_data"
    }
   ],
   "source": [
    "import numpy as np\n",
    "from scipy import integrate\n",
    "import scipy.optimize\n",
    "\n",
    "%matplotlib inline\n",
    "import matplotlib.pyplot as plt\n",
    "\n",
    "#Input data\n",
    "depth = np.linspace(0, 2000, num=21)\n",
    "density = np.array([1025, 1026, 1026, 1030, 1030, 1031, 1900, 2190, \n",
    "                    2200, 2230, 2235, 2240, 2275, 2305, 2310, 2308, \n",
    "                    2310, 2305, 2310, 2323, 2319])\n",
    "density_brine = 1031. * np.ones_like(density)\n",
    "porosity = np.array([0.305, 0.297, 0.286, 0.281, 0.285, 0.293, 0.307, 0.305, 0.298])\n",
    "\n",
    "#Compute S_v\n",
    "Sv = integrate.cumtrapz(density * 9.81, depth, initial=0)\n",
    "#Compute S_hydro\n",
    "hydro = integrate.cumtrapz(density_brine * 9.81, depth, initial=0)\n",
    "#Compute P_p\n",
    "phi_0 = 0.38\n",
    "beta = 3e-2 / (1e6)\n",
    "Pp = Sv[-len(porosity):] + (1. / beta) * np.log(porosity / phi_0)\n",
    "#Compute sigma_eff\n",
    "sigma_eff = Sv[-len(porosity):] - Pp\n",
    "#Create plot\n",
    "plt.plot(depth, Sv / 1e6, 'k', label=\"$S_v$\") \n",
    "plt.plot(depth, hydro / 1e6, 'b', label=\"$S_{hydro}$\") \n",
    "plt.plot(depth[-(len(porosity)):], Pp / 1e6, 'r', label=\"$P_p$\")\n",
    "plt.plot(depth[-(len(porosity)):], sigma_eff / 1e6, 'g', label=\"$\\sigma_{eff}$\");\n",
    "plt.grid()\n",
    "plt.legend(loc=2)\n",
    "plt.xlabel(\"Depth (m)\")\n",
    "plt.ylabel(\"Pressure (MPa)\");"
   ]
  },
  {
   "cell_type": "markdown",
   "metadata": {},
   "source": [
    "Below are the depths at which there is an overpressure."
   ]
  },
  {
   "cell_type": "code",
   "execution_count": 5,
   "metadata": {},
   "outputs": [
    {
     "data": {
      "text/plain": [
       "array([ 1300.,  1400.,  1500.,  1600.,  1700.,  1800.,  1900.,  2000.])"
      ]
     },
     "execution_count": 5,
     "metadata": {},
     "output_type": "execute_result"
    }
   ],
   "source": [
    "depth[-(len(porosity)):][Pp > hydro[-(len(porosity)):]]"
   ]
  },
  {
   "cell_type": "markdown",
   "metadata": {},
   "source": [
    "So the overpressure starts at between 1200 and 1300 meters."
   ]
  },
  {
   "cell_type": "markdown",
   "metadata": {},
   "source": [
    "# Problem 4 (20 points)\n",
    "\n",
    "Compare the characteristic hydraulic time of escape in a sandstone formation with porosity 0.25 and the one with the same matrix grains, but more compacted, with porosity 0.12.\n",
    "\n",
    " * You can assume that permeability can be estimated using equation $k = C d^2 \\phi^3$ where $C$ is a given constant, $d$ is sandstone grain diameter and $\\phi$ is porosity. When using the formula, assume that constant $C$ and grain diameter $d$ do not change during compaction. Compressibility $\\beta$ of a material is inverse of its bulk modulus $K$. Bulk modulus for brine water and quartz grains are given as $K_f=2.2$ GPa and $K_r=41$ GPa."
   ]
  },
  {
   "cell_type": "markdown",
   "metadata": {},
   "source": [
    "**Solution**\n",
    "\n",
    "We'll make the comparison through utilizing a ratio of the two characteristic hydraulic times."
   ]
  },
  {
   "cell_type": "code",
   "execution_count": 6,
   "metadata": {},
   "outputs": [
    {
     "data": {
      "text/plain": [
       "5.1711475531756665"
      ]
     },
     "execution_count": 6,
     "metadata": {},
     "output_type": "execute_result"
    }
   ],
   "source": [
    "tau_ratio = ((0.12 * (1. / 2.2e9) + (1. / 41e9)) / \n",
    "             0.12 ** 3.0) / ((0.25 * (1. / 2.2e9) + (1. / 41e9)) / 0.25 ** 3.0); tau_ratio"
   ]
  },
  {
   "cell_type": "markdown",
   "metadata": {},
   "source": [
    "Therefore, the more compacted sandstone formation with a porosity of $0.12$ will have a characteristic hydraulic time that is $5.2$ times longer than the sandstone with a porosity value of $0.25$."
   ]
  },
  {
   "cell_type": "markdown",
   "metadata": {},
   "source": [
    "# Problem 5 (30 points)\n",
    "\n",
    "Assume stresses are given as $S_{hmin}=40$ MPa, $S_{Hmax}$=60 MPa, $S_{v}$=45 MPa and $S_{hmin}$ acts in the East-West direction. For each of the faults below, calculate the normal and shear stress and then determine what kind of fault would it be, if it were to slip.\n",
    " \n",
    " a. Fault with strike north-south, dip 65$^\\circ$ to the east.\n",
    " \n",
    " b. Fault with strike north-south, dip 50$^\\circ$ to the west\n",
    " \n",
    " c. Fault with strike east-west, dip 25$^\\circ$ to the north."
   ]
  },
  {
   "cell_type": "markdown",
   "metadata": {},
   "source": [
    "**Solution**\n",
    "\n",
    "First we need to order the stresses in terms of the principle stress definitions, i.e. $S_1 = S_{Hmax}$, $S_2 = S_v$, and $S_3 = S{hmin}$.  With this ordering, we can see that we need to rotate by $\\gamma = 90^{\\circ}$ to align $S_v$ down and $S_{hmin}$ with the East-West direction.  First we define a function to calculate the rotation matrix and compute $S_G$."
   ]
  },
  {
   "cell_type": "code",
   "execution_count": 7,
   "metadata": {
    "collapsed": true
   },
   "outputs": [],
   "source": [
    "def compute_Sg(S, angles=(0,0,0)):\n",
    "    \n",
    "    alpha, beta, gamma = np.radians(angles)\n",
    "    \n",
    "    Rg = np.array([[np.cos(alpha) * np.cos(beta),  \n",
    "                    np.sin(alpha) * np.cos(beta),  \n",
    "                    -np.sin(beta)],\n",
    "                   [np.cos(alpha) * np.sin(beta) * np.sin(gamma) - np.sin(alpha) * np.cos(gamma), \n",
    "                    np.sin(alpha) * np.sin(beta) * np.sin(gamma) + np.cos(alpha) * np.cos(gamma),  \n",
    "                    np.cos(beta) * np.sin(gamma)],\n",
    "                   [np.cos(alpha) * np.sin(beta) * np.cos(gamma) + np.sin(alpha) * np.sin(gamma), \n",
    "                    np.sin(alpha) * np.sin(beta) * np.cos(gamma) - np.cos(alpha) * np.sin(gamma),  \n",
    "                    np.cos(beta) * np.cos(gamma)]])\n",
    "                  \n",
    "    return np.dot(Rg.T, np.dot(S,Rg))"
   ]
  },
  {
   "cell_type": "code",
   "execution_count": 8,
   "metadata": {},
   "outputs": [
    {
     "data": {
      "text/plain": [
       "array([[  6.00000000e+01,   0.00000000e+00,   0.00000000e+00],\n",
       "       [  0.00000000e+00,   4.00000000e+01,   3.06161700e-16],\n",
       "       [  0.00000000e+00,   3.06161700e-16,   4.50000000e+01]])"
      ]
     },
     "execution_count": 8,
     "metadata": {},
     "output_type": "execute_result"
    }
   ],
   "source": [
    "S = np.diag([60, 45, 40])\n",
    "\n",
    "S_G = compute_Sg(S, angles=(0,0,90)); S_G"
   ]
  },
  {
   "cell_type": "markdown",
   "metadata": {},
   "source": [
    "Now we'll define a function that will compute the unit vectors for us."
   ]
  },
  {
   "cell_type": "code",
   "execution_count": 9,
   "metadata": {},
   "outputs": [],
   "source": [
    "def compute_unit_vectors(strike, dip):\n",
    "    \n",
    "    strike = np.radians(strike)\n",
    "    dip = np.radians(dip)\n",
    "    \n",
    "    n = np.array([-np.sin(strike) * np.sin(dip), np.cos(strike) * np.sin(dip), -np.cos(dip) ])\n",
    "    \n",
    "    ns = np.array([ np.cos(strike), np.sin(strike), 0 ])\n",
    "    \n",
    "    nd = np.array([ -np.sin(strike) * np.cos(dip), np.cos(strike) * np.cos(dip), np.sin(dip) ])\n",
    "    \n",
    "    return (n, ns, nd)"
   ]
  },
  {
   "cell_type": "markdown",
   "metadata": {},
   "source": [
    "With this we can easily compute the anwers to the following scenerios."
   ]
  },
  {
   "cell_type": "markdown",
   "metadata": {},
   "source": [
    "**a) $strike = 0^{\\circ}, dip = 65^{\\circ}$**"
   ]
  },
  {
   "cell_type": "code",
   "execution_count": 10,
   "metadata": {},
   "outputs": [
    {
     "name": "stdout",
     "output_type": "stream",
     "text": [
      "[-0.          0.90630779 -0.42261826]\n",
      "[ 1.  0.  0.]\n",
      "[-0.          0.42261826  0.90630779]\n"
     ]
    }
   ],
   "source": [
    "n, ns, nd = compute_unit_vectors(0, 65); \n",
    "print(n)\n",
    "print(ns)\n",
    "print(nd)"
   ]
  },
  {
   "cell_type": "markdown",
   "metadata": {},
   "source": [
    "Now we compute the normal and shear stresses on the plane"
   ]
  },
  {
   "cell_type": "code",
   "execution_count": 11,
   "metadata": {},
   "outputs": [
    {
     "data": {
      "text/plain": [
       "40.893030975783645"
      ]
     },
     "execution_count": 11,
     "metadata": {},
     "output_type": "execute_result"
    }
   ],
   "source": [
    "sigma_n = np.dot(np.dot(S_G, n), n); sigma_n"
   ]
  },
  {
   "cell_type": "code",
   "execution_count": 12,
   "metadata": {},
   "outputs": [
    {
     "data": {
      "text/plain": [
       "0.0"
      ]
     },
     "execution_count": 12,
     "metadata": {},
     "output_type": "execute_result"
    }
   ],
   "source": [
    "tau_s = np.dot(np.dot(S_G, n), ns); tau_s"
   ]
  },
  {
   "cell_type": "code",
   "execution_count": 13,
   "metadata": {},
   "outputs": [
    {
     "data": {
      "text/plain": [
       "-1.9151111077974452"
      ]
     },
     "execution_count": 13,
     "metadata": {},
     "output_type": "execute_result"
    }
   ],
   "source": [
    "tau_d = np.dot(np.dot(S_G, n), nd); tau_d"
   ]
  },
  {
   "cell_type": "markdown",
   "metadata": {},
   "source": [
    "In this case, there is only a shear stress in direction of the dip.  This is the shear stress on the footwall as defined, therefore the hanging wall will have a shear stress in the opposite direction (opposing motion) such that the hanging wall will move in the direction of the shear stress on the footwall.  Therefore, the motion of the hanging wall will be *up* the footwall.  **This is a reverse fault**."
   ]
  },
  {
   "cell_type": "markdown",
   "metadata": {},
   "source": [
    "**b)** $strike = 180^{\\circ}, dip = 50^{\\circ}$"
   ]
  },
  {
   "cell_type": "code",
   "execution_count": 14,
   "metadata": {},
   "outputs": [
    {
     "name": "stdout",
     "output_type": "stream",
     "text": [
      "[ -9.38133875e-17  -7.66044443e-01  -6.42787610e-01]\n",
      "[ -1.00000000e+00   1.22464680e-16   0.00000000e+00]\n",
      "[ -7.87187789e-17  -6.42787610e-01   7.66044443e-01]\n"
     ]
    }
   ],
   "source": [
    "n, ns, nd = compute_unit_vectors(180, 50); \n",
    "print(n)\n",
    "print(ns)\n",
    "print(nd)"
   ]
  },
  {
   "cell_type": "code",
   "execution_count": 15,
   "metadata": {},
   "outputs": [
    {
     "data": {
      "text/plain": [
       "42.06587955583268"
      ]
     },
     "execution_count": 15,
     "metadata": {},
     "output_type": "execute_result"
    }
   ],
   "source": [
    "sigma_n = np.dot(np.dot(S_G, n), n); sigma_n"
   ]
  },
  {
   "cell_type": "code",
   "execution_count": 16,
   "metadata": {},
   "outputs": [
    {
     "data": {
      "text/plain": [
       "1.8762677505405461e-15"
      ]
     },
     "execution_count": 16,
     "metadata": {},
     "output_type": "execute_result"
    }
   ],
   "source": [
    "tau_s = np.dot(np.dot(S_G, n), ns); tau_s"
   ]
  },
  {
   "cell_type": "code",
   "execution_count": 17,
   "metadata": {},
   "outputs": [
    {
     "data": {
      "text/plain": [
       "-2.4620193825305208"
      ]
     },
     "execution_count": 17,
     "metadata": {},
     "output_type": "execute_result"
    }
   ],
   "source": [
    "tau_d = np.dot(np.dot(S_G, n), nd); tau_d"
   ]
  },
  {
   "cell_type": "markdown",
   "metadata": {},
   "source": [
    "Following the same logic as above, **this is a reverse fault**."
   ]
  },
  {
   "cell_type": "markdown",
   "metadata": {},
   "source": [
    "**c)** $strike = 270^{\\circ}, dip = 25^{\\circ}$"
   ]
  },
  {
   "cell_type": "code",
   "execution_count": 18,
   "metadata": {},
   "outputs": [
    {
     "name": "stdout",
     "output_type": "stream",
     "text": [
      "[  4.22618262e-01  -7.76337152e-17  -9.06307787e-01]\n",
      "[ -1.83697020e-16  -1.00000000e+00   0.00000000e+00]\n",
      "[  9.06307787e-01  -1.66486040e-16   4.22618262e-01]\n"
     ]
    }
   ],
   "source": [
    "n, ns, nd = compute_unit_vectors(270, 25); \n",
    "print(n)\n",
    "print(ns)\n",
    "print(nd)"
   ]
  },
  {
   "cell_type": "code",
   "execution_count": 19,
   "metadata": {},
   "outputs": [
    {
     "data": {
      "text/plain": [
       "47.679092927350951"
      ]
     },
     "execution_count": 19,
     "metadata": {},
     "output_type": "execute_result"
    }
   ],
   "source": [
    "sigma_n = np.dot(np.dot(S_G, n), n); sigma_n"
   ]
  },
  {
   "cell_type": "code",
   "execution_count": 20,
   "metadata": {},
   "outputs": [
    {
     "data": {
      "text/plain": [
       "-1.2751975718967087e-15"
      ]
     },
     "execution_count": 20,
     "metadata": {},
     "output_type": "execute_result"
    }
   ],
   "source": [
    "tau_s = np.dot(np.dot(S_G, n), ns); tau_s"
   ]
  },
  {
   "cell_type": "code",
   "execution_count": 21,
   "metadata": {},
   "outputs": [
    {
     "data": {
      "text/plain": [
       "5.7453333233923374"
      ]
     },
     "execution_count": 21,
     "metadata": {},
     "output_type": "execute_result"
    }
   ],
   "source": [
    "tau_d = np.dot(np.dot(S_G, n), nd); tau_d"
   ]
  },
  {
   "cell_type": "markdown",
   "metadata": {},
   "source": [
    "Following the same logic as explained in a), **this is a normal fault**."
   ]
  },
  {
   "cell_type": "markdown",
   "metadata": {},
   "source": [
    "# Problem 6 (20 points)\n",
    "\n",
    "A major fault in your reservoir has strike N35$^\\circ$W and dip 60$^\\circ$ from horizontal. $S_{hmin}$ in this area acts along 020$^\\circ$, and in situ stresses are $S_{hmin}=70$ MPa, $S_{Hmax}=80$ MPa, $S_v=65$ MPa.   Assume the pore pressure $P_p =30$ MPa. Is the fault likely to slip if the respective frictional coefficient is $\\mu=0.7$?\n",
    "\n",
    "**Solution**\n",
    "\n",
    "First we'll define some functions that we will use in this problem and the next."
   ]
  },
  {
   "cell_type": "code",
   "execution_count": 22,
   "metadata": {
    "collapsed": true
   },
   "outputs": [],
   "source": [
    "def compute_stress_components_on_fault(S, strike, dip, angles=(0,0,0)):\n",
    "\n",
    "    S_G = compute_Sg(S, angles)\n",
    "    \n",
    "    n, ns, nd = compute_unit_vectors(strike, dip)\n",
    "    \n",
    "    sigma_n = np.dot(np.dot(S_G, n), n)\n",
    "    tau_s = np.dot(np.dot(S_G, n), ns)\n",
    "    tau_d = np.dot(np.dot(S_G, n), nd)\n",
    "    \n",
    "    tau_mag = np.sqrt(tau_s ** 2. + tau_d ** 2.)\n",
    "    \n",
    "    return (sigma_n, tau_s, tau_d, tau_mag)\n",
    "\n",
    "\n",
    "def check_fault_slip(S, Pp, strike, dip, angles=(0,0,0), mu=0.6):\n",
    "    \n",
    "    sigma_n, tau_s, tau_d, tau_mag = compute_stress_components_on_fault(S, strike, dip, angles)\n",
    "    \n",
    "    return (tau_mag / (sigma_n - Pp) > mu)"
   ]
  },
  {
   "cell_type": "markdown",
   "metadata": {},
   "source": [
    "Now we can check to see if our fault is slipping under the given conditions from the funcions above."
   ]
  },
  {
   "cell_type": "code",
   "execution_count": 23,
   "metadata": {},
   "outputs": [
    {
     "data": {
      "text/plain": [
       "False"
      ]
     },
     "execution_count": 23,
     "metadata": {},
     "output_type": "execute_result"
    }
   ],
   "source": [
    "S = np.diag([80, 70, 65])\n",
    "\n",
    "check_fault_slip(S, 30, -35, 60, angles=(-70,0,0), mu=0.7)"
   ]
  },
  {
   "cell_type": "markdown",
   "metadata": {
    "collapsed": true
   },
   "source": [
    "# Problem 7 (40 points)\n",
    "\n",
    "Assuming the same reservior conditions as Problem 6, write a computer code that can compute the resolved shear stress magnitude and normal effective stress on a fault characterized by the strike direction and dip angle.  Now randomly generate 10000 faults (use a statistical distribution to choose random pairs of strike and dip) and plot the results on a Mohr diagram.  Where do near vertical strike-slip faults appear on this diagram? Where do the oblique-slip faults fall?\n",
    "\n",
    "**Solution**\n",
    "\n",
    "The code below creates the random faults.  We will assume that a near-vertical strike-slip fault is one in which the dip angle is greater than $85^\\circ$.  Oblique-slip faults are those that have near-equal magnitudes of shear and dip components of shear stresses."
   ]
  },
  {
   "cell_type": "code",
   "execution_count": 24,
   "metadata": {},
   "outputs": [
    {
     "data": {
      "image/png": "[encoded data removed]",
      "text/plain": [
       "<matplotlib.figure.Figure at 0x10fccee48>"
      ]
     },
     "metadata": {},
     "output_type": "display_data"
    }
   ],
   "source": [
    "import matplotlib.pyplot as plt\n",
    "%matplotlib inline\n",
    "\n",
    "def create_plot(S, angles=(0,0,0)):\n",
    "\n",
    "    strikes = np.random.rand(10000) * 360\n",
    "    dips =  np.random.rand(10000) * 90\n",
    "\n",
    "    out = np.array([ compute_stress_components_on_fault(S, strikes[i], dips[i], angles) for i in range(len(strikes)) ])\n",
    "\n",
    "    normal = out[:,0]\n",
    "    shear_slip = out[:,1]\n",
    "    shear_dip = out[:,2]\n",
    "    shear_mag = out[:,3]\n",
    "\n",
    "\n",
    "    vert_ss = np.logical_and(dips > 85, np.abs(shear_slip / shear_dip) > 5)\n",
    "    oblique_slip = np.logical_and(0.75 < np.abs(shear_slip / shear_dip), np.abs(shear_slip / shear_dip) < 1.5)\n",
    "    other = np.logical_not(np.logical_or(vert_ss, oblique_slip))\n",
    "\n",
    "    plt.figure()\n",
    "    plt.gca().set_aspect('equal')\n",
    "    plt.plot(normal[other], shear_mag[other], 'k.',\n",
    "             normal[oblique_slip], shear_mag[oblique_slip], 'go',\n",
    "             normal[vert_ss], shear_mag[vert_ss], 'ro'),\n",
    "    plt.xlabel('$\\sigma_n^{eff}$')\n",
    "    plt.ylabel('${\\tau}$');\n",
    "    plt.legend(['Other','Oblique-slip', 'Near vertical'],bbox_to_anchor=(1.05, 1), loc=2, borderaxespad=0.);\n",
    "    \n",
    "    \n",
    "create_plot(S, angles=(-70,0,0))"
   ]
  },
  {
   "cell_type": "markdown",
   "metadata": {},
   "source": [
    "The plot above sort-of speaks for itself, there is no reason to describe in words the answers to the questions with a properly made figure."
   ]
  },
  {
   "cell_type": "markdown",
   "metadata": {},
   "source": [
    "# Problem 8 (10 points)\n",
    "\n",
    "Repeat Problem 7 but make $S_{hmin}=S_{Hmax}=45$ MPa (i.e. stress isotropic in the horizontal plane. How has the Mohr diagram changed? Is this still a 3D problem?\n",
    "\n",
    "**Solution**\n",
    "\n",
    "We can use our code above to quickly solve this problem by simply plugging in the new numbers."
   ]
  },
  {
   "cell_type": "code",
   "execution_count": 25,
   "metadata": {},
   "outputs": [
    {
     "data": {
      "image/png": "[encoded data removed]",
      "text/plain": [
       "<matplotlib.figure.Figure at 0x10fc96470>"
      ]
     },
     "metadata": {},
     "output_type": "display_data"
    }
   ],
   "source": [
    "S = np.diag([65, 45, 45])\n",
    "create_plot(S, angles=(-70,0,0))"
   ]
  },
  {
   "cell_type": "markdown",
   "metadata": {},
   "source": [
    "This problem is clearly 2D as it can be fully characterized by the two principle stresses."
   ]
  },
  {
   "cell_type": "code",
   "execution_count": 26,
   "metadata": {},
   "outputs": [
    {
     "data": {
      "text/plain": [
       "(39.999779996773242,\n",
       " 8.6601270189221928,\n",
       " 6.1230992826130353e-16,\n",
       " 8.6601270189221928)"
      ]
     },
     "execution_count": 26,
     "metadata": {},
     "output_type": "execute_result"
    }
   ],
   "source": [
    "compute_stress_components_on_fault(np.array([[30, -8.66, 0],[-8.66, 40, 0],[0,0,30]]), 60, 90, (0,0,0))"
   ]
  },
  {
   "cell_type": "code",
   "execution_count": 27,
   "metadata": {},
   "outputs": [
    {
     "data": {
      "text/plain": [
       "(3875.0000000000005,\n",
       " -433.01270189221918,\n",
       " -649.51905283832912,\n",
       " 780.62474979979982)"
      ]
     },
     "execution_count": 27,
     "metadata": {},
     "output_type": "execute_result"
    }
   ],
   "source": [
    "compute_stress_components_on_fault(np.diag([4000, 3000, 5000]), 45, 60, (0,0,0))"
   ]
  },
  {
   "cell_type": "code",
   "execution_count": 28,
   "metadata": {},
   "outputs": [
    {
     "data": {
      "text/plain": [
       "(4125.0, -433.01270189221964, 649.51905283832934, 780.62474979980027)"
      ]
     },
     "execution_count": 28,
     "metadata": {},
     "output_type": "execute_result"
    }
   ],
   "source": [
    "compute_stress_components_on_fault(np.diag([5000, 4000, 3000]), 225, 60, (0,0,0))"
   ]
  },
  {
   "cell_type": "code",
   "execution_count": 29,
   "metadata": {},
   "outputs": [
    {
     "data": {
      "text/plain": [
       "(1441.2168789736368, 488.4593858091485, 160.58981080223731, 514.18057034328797)"
      ]
     },
     "execution_count": 29,
     "metadata": {},
     "output_type": "execute_result"
    }
   ],
   "source": [
    "compute_stress_components_on_fault(np.array([[2100, -520, 0],[-520, 1500, 0],[0,0,1000]]), 120, 70, (0,0,0))"
   ]
  }
 ],
 "metadata": {
  "kernelspec": {
   "display_name": "Python 3 (ipykernel)",
   "language": "python",
   "name": "python3"
  },
  "language_info": {
   "codemirror_mode": {
    "name": "ipython",
    "version": 3
   },
   "file_extension": ".py",
   "mimetype": "text/x-python",
   "name": "python",
   "nbconvert_exporter": "python",
   "pygments_lexer": "ipython3",
   "version": "3.10.8"
  }
 },
 "nbformat": 4,
 "nbformat_minor": 1
}
