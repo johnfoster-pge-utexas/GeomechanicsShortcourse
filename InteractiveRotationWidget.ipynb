{
 "cells": [
  {
   "cell_type": "markdown",
   "metadata": {
    "slideshow": {
     "slide_type": "slide"
    }
   },
   "source": [
    "# Interactive Widget\n"
   ]
  },
  {
   "cell_type": "code",
   "execution_count": 3,
   "metadata": {
    "hide_input": true,
    "init_cell": true,
    "slideshow": {
     "slide_type": "-"
    }
   },
   "outputs": [
    {
     "data": {
      "application/vnd.jupyter.widget-view+json": {
       "model_id": "88e9b2420bc54b5798076504f812a60b",
       "version_major": 2,
       "version_minor": 0
      },
      "text/plain": [
       "interactive(children=(IntSlider(value=20, description='$\\\\alpha$', max=360, step=10), IntSlider(value=0, descr…"
      ]
     },
     "metadata": {},
     "output_type": "display_data"
    }
   ],
   "source": [
    "import matplotlib.pyplot as plt\n",
    "from mpl_toolkits.mplot3d import Axes3D\n",
    "import numpy as np\n",
    "from ipywidgets import interact, widgets\n",
    "\n",
    "@interact(alpha_=widgets.IntSlider(min=0,max=360,step=10,value=20,description=r'$\\alpha$'), \n",
    "          beta_=widgets.IntSlider(min=0,max=360,step=10,value=0,description=r'$\\beta$'), \n",
    "          gamma_=widgets.IntSlider(min=0,max=360,step=10,value=0,description=r'$\\gamma$'))\n",
    "def create_plot(alpha_, beta_, gamma_):\n",
    "    \n",
    "    alpha = np.deg2rad(alpha_)\n",
    "    beta = np.deg2rad(beta_)\n",
    "    gamma = np.deg2rad(gamma_)\n",
    "\n",
    "    soa1 = np.array([[0, 0, 0, 1, 0, 0], [0, 0, 0, 0, 1, 0],\n",
    "                    [0, 0, 0, 0, 0, 1]])\n",
    "\n",
    "    soa2 = np.array([[0, 0, 0, np.cos(alpha) * np.cos(beta), np.sin(alpha) * np.cos(beta), -np.sin(beta)], \n",
    "                     [0, 0, 0, np.cos(alpha) * np.sin(beta) * np.sin(gamma) - np.sin(alpha) * np.cos(gamma), np.sin(alpha) * np.sin(beta) * np.sin(gamma) + np.cos(alpha) * np.cos(gamma), np.cos(beta) * np.sin(gamma)], \n",
    "                    [0, 0, 0, np.cos(alpha) * np.sin(beta) * np.cos(gamma) + np.sin(alpha) * np.sin(gamma), np.sin(alpha) * np.sin(beta) * np.cos(gamma) - np.cos(alpha) * np.sin(gamma), np.cos(beta) * np.cos(gamma)]])\n",
    "\n",
    "    X1, Y1, Z1, U1, V1, W1 = zip(*soa1)\n",
    "    X2, Y2, Z2, U2, V2, W2 = zip(*soa2)\n",
    "    fig = plt.figure(figsize=(8,8))\n",
    "    ax = fig.add_subplot(111, projection='3d')\n",
    "    ax.quiver(X1, Y1, Z1, U1, V1, W1, color='k', arrow_length_ratio=0.1, length=2, linewidths=3)\n",
    "    ax.quiver(X2, Y2, Z2, U2, V2, W2, color='r', arrow_length_ratio=0.1, length=2, linewidths=3)\n",
    "    ax.text(2, 0, 0, \"$N$\", color='k', fontsize=20)\n",
    "    ax.text(0, 2, 0, \"$E$\", color='k', fontsize=20)\n",
    "    ax.text(0, 0, 2, \"$D$\", color='k', fontsize=20)\n",
    "    if (np.abs(U1[0] - U2[0]) >= 0.01):\n",
    "        ax.text(2 * U2[0], 2 * V2[0], 2 * W2[0], \"$S_1$\", color='r', fontsize=20)\n",
    "    if (np.abs(V1[1] - V2[1]) >= 0.01):\n",
    "        ax.text(2 * U2[1], 2 * V2[1], 2* W2[1], \"$S_2$\", color='r', fontsize=20)\n",
    "    if (np.abs(W1[2] - W2[2]) >= 0.01):\n",
    "        ax.text(2 * U2[2], 2 * V2[2], 2 * W2[2], \"$S_3$\", color='r', fontsize=20)\n",
    "    ax.view_init(200,-10)\n",
    "    ax.set_axis_off()\n",
    "    ax.set_xlim([-1.4, 1.4])\n",
    "    ax.set_ylim([-1.4, 1.4])\n",
    "    ax.set_zlim([-1.4, 1.4])\n",
    "    plt.show()"
   ]
  },
  {
   "cell_type": "code",
   "execution_count": null,
   "metadata": {},
   "outputs": [],
   "source": []
  }
 ],
 "metadata": {
  "celltoolbar": "Slideshow",
  "kernelspec": {
   "display_name": "Python 3 (ipykernel)",
   "language": "python",
   "name": "python3"
  },
  "language_info": {
   "codemirror_mode": {
    "name": "ipython",
    "version": 3
   },
   "file_extension": ".py",
   "mimetype": "text/x-python",
   "name": "python",
   "nbconvert_exporter": "python",
   "pygments_lexer": "ipython3",
   "version": "3.11.3"
  },
  "livereveal": {
   "footer": "<img src='images/UT.png' width='220'>",
   "progress": true,
   "scroll": true,
   "theme": "simple"
  },
  "widgets": {
   "application/vnd.jupyter.widget-state+json": {
    "state": {
     "07edb74fb4974f08946fec7d45e3fc5c": {
      "model_module": "@jupyter-widgets/controls",
      "model_module_version": "1.1.0",
      "model_name": "SliderStyleModel",
      "state": {
       "description_width": ""
      }
     },
     "134568f7263b45258acdc5ecb99ac13b": {
      "model_module": "@jupyter-widgets/controls",
      "model_module_version": "1.1.0",
      "model_name": "IntSliderModel",
      "state": {
       "description": "$\\gamma$",
       "layout": "IPY_MODEL_b3792060a03e46c18b327b5462881093",
       "max": 360,
       "step": 10,
       "style": "IPY_MODEL_e3614476f964415996a1e1fbd9e14d2a"
      }
     },
     "2f201239f2c2451a86858da59aa8d0f6": {
      "model_module": "@jupyter-widgets/output",
      "model_module_version": "1.0.0",
      "model_name": "OutputModel",
      "state": {
       "layout": "IPY_MODEL_c28a444596d2466aac78715eb0afbf27",
       "outputs": [
        {
         "data": {
          "image/png": "iVBORw0KGgoAAAANSUhEUgAAAdMAAAHICAYAAAAV7wD1AAAABHNCSVQICAgIfAhkiAAAAAlwSFlz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\nAABJRU5ErkJggg==\n",
          "text/plain": "<matplotlib.figure.Figure at 0x10b059390>"
         },
         "metadata": {},
         "output_type": "display_data"
        }
       ]
      }
     },
     "34ea848a8eec4fdfa946d14068c929fe": {
      "model_module": "@jupyter-widgets/base",
      "model_module_version": "1.0.0",
      "model_name": "LayoutModel",
      "state": {}
     },
     "36759c1b9e0f48f1befb46663eb1a020": {
      "model_module": "@jupyter-widgets/controls",
      "model_module_version": "1.1.0",
      "model_name": "VBoxModel",
      "state": {
       "_dom_classes": [
        "widget-interact"
       ],
       "children": [
        "IPY_MODEL_a5c9757bc3b24f449b0264c0830bef3f",
        "IPY_MODEL_90cd05edfaa34ace970b7b811393dca2",
        "IPY_MODEL_cd31a945cc1642e19406a511123005c5",
        "IPY_MODEL_e4bd15ebc356478981f369c233a58054"
       ],
       "layout": "IPY_MODEL_7ba7b1e95f204cd78d0baeea5acbebc9"
      }
     },
     "3fd51950100849c1a3bd2740f98bb108": {
      "model_module": "@jupyter-widgets/base",
      "model_module_version": "1.0.0",
      "model_name": "LayoutModel",
      "state": {}
     },
     "46e2ec56d2034328a2353024cd3ba099": {
      "model_module": "@jupyter-widgets/controls",
      "model_module_version": "1.1.0",
      "model_name": "SliderStyleModel",
      "state": {
       "description_width": ""
      }
     },
     "51ca642eb2e24a1e9100217e495e047c": {
      "model_module": "@jupyter-widgets/controls",
      "model_module_version": "1.1.0",
      "model_name": "SliderStyleModel",
      "state": {
       "description_width": ""
      }
     },
     "741059fdd7364c9495f3cf4d549cb285": {
      "model_module": "@jupyter-widgets/controls",
      "model_module_version": "1.1.0",
      "model_name": "SliderStyleModel",
      "state": {
       "description_width": ""
      }
     },
     "7ba7b1e95f204cd78d0baeea5acbebc9": {
      "model_module": "@jupyter-widgets/base",
      "model_module_version": "1.0.0",
      "model_name": "LayoutModel",
      "state": {}
     },
     "85d551a2de05436e9996394fa5b5728b": {
      "model_module": "@jupyter-widgets/controls",
      "model_module_version": "1.1.0",
      "model_name": "VBoxModel",
      "state": {
       "_dom_classes": [
        "widget-interact"
       ],
       "children": [
        "IPY_MODEL_d75097616176419984b04f150f37dbfd",
        "IPY_MODEL_cc3a929b90ea4bfba3df6ddd92ee9e48",
        "IPY_MODEL_134568f7263b45258acdc5ecb99ac13b",
        "IPY_MODEL_2f201239f2c2451a86858da59aa8d0f6"
       ],
       "layout": "IPY_MODEL_bb09fa894e5e42b6b140ba2cf67a72b6"
      }
     },
     "8a5208a46352479a812bcef565cc0528": {
      "model_module": "@jupyter-widgets/base",
      "model_module_version": "1.0.0",
      "model_name": "LayoutModel",
      "state": {}
     },
     "90cd05edfaa34ace970b7b811393dca2": {
      "model_module": "@jupyter-widgets/controls",
      "model_module_version": "1.1.0",
      "model_name": "IntSliderModel",
      "state": {
       "description": "$\\beta$",
       "layout": "IPY_MODEL_b53e9e9065ba4306b1f7f169bb2c4240",
       "max": 360,
       "step": 10,
       "style": "IPY_MODEL_b116aaa9029b4e6783bac816e04a18a5"
      }
     },
     "a5c9757bc3b24f449b0264c0830bef3f": {
      "model_module": "@jupyter-widgets/controls",
      "model_module_version": "1.1.0",
      "model_name": "IntSliderModel",
      "state": {
       "description": "$\\alpha$",
       "layout": "IPY_MODEL_ca0c21801b4f455db9d11e18d01d0cbe",
       "max": 360,
       "step": 10,
       "style": "IPY_MODEL_07edb74fb4974f08946fec7d45e3fc5c",
       "value": 20
      }
     },
     "b116aaa9029b4e6783bac816e04a18a5": {
      "model_module": "@jupyter-widgets/controls",
      "model_module_version": "1.1.0",
      "model_name": "SliderStyleModel",
      "state": {
       "description_width": ""
      }
     },
     "b3792060a03e46c18b327b5462881093": {
      "model_module": "@jupyter-widgets/base",
      "model_module_version": "1.0.0",
      "model_name": "LayoutModel",
      "state": {}
     },
     "b53e9e9065ba4306b1f7f169bb2c4240": {
      "model_module": "@jupyter-widgets/base",
      "model_module_version": "1.0.0",
      "model_name": "LayoutModel",
      "state": {}
     },
     "bb09fa894e5e42b6b140ba2cf67a72b6": {
      "model_module": "@jupyter-widgets/base",
      "model_module_version": "1.0.0",
      "model_name": "LayoutModel",
      "state": {}
     },
     "c28a444596d2466aac78715eb0afbf27": {
      "model_module": "@jupyter-widgets/base",
      "model_module_version": "1.0.0",
      "model_name": "LayoutModel",
      "state": {}
     },
     "c882d2bc77104ecba1af8560dcad9deb": {
      "model_module": "@jupyter-widgets/base",
      "model_module_version": "1.0.0",
      "model_name": "LayoutModel",
      "state": {}
     },
     "ca0c21801b4f455db9d11e18d01d0cbe": {
      "model_module": "@jupyter-widgets/base",
      "model_module_version": "1.0.0",
      "model_name": "LayoutModel",
      "state": {}
     },
     "cc3a929b90ea4bfba3df6ddd92ee9e48": {
      "model_module": "@jupyter-widgets/controls",
      "model_module_version": "1.1.0",
      "model_name": "IntSliderModel",
      "state": {
       "description": "$\\beta$",
       "layout": "IPY_MODEL_3fd51950100849c1a3bd2740f98bb108",
       "max": 360,
       "step": 10,
       "style": "IPY_MODEL_51ca642eb2e24a1e9100217e495e047c"
      }
     },
     "cd31a945cc1642e19406a511123005c5": {
      "model_module": "@jupyter-widgets/controls",
      "model_module_version": "1.1.0",
      "model_name": "IntSliderModel",
      "state": {
       "description": "$\\gamma$",
       "layout": "IPY_MODEL_8a5208a46352479a812bcef565cc0528",
       "max": 360,
       "step": 10,
       "style": "IPY_MODEL_46e2ec56d2034328a2353024cd3ba099"
      }
     },
     "d75097616176419984b04f150f37dbfd": {
      "model_module": "@jupyter-widgets/controls",
      "model_module_version": "1.1.0",
      "model_name": "IntSliderModel",
      "state": {
       "description": "$\\alpha$",
       "layout": "IPY_MODEL_34ea848a8eec4fdfa946d14068c929fe",
       "max": 360,
       "step": 10,
       "style": "IPY_MODEL_741059fdd7364c9495f3cf4d549cb285",
       "value": 20
      }
     },
     "e3614476f964415996a1e1fbd9e14d2a": {
      "model_module": "@jupyter-widgets/controls",
      "model_module_version": "1.1.0",
      "model_name": "SliderStyleModel",
      "state": {
       "description_width": ""
      }
     },
     "e4bd15ebc356478981f369c233a58054": {
      "model_module": "@jupyter-widgets/output",
      "model_module_version": "1.0.0",
      "model_name": "OutputModel",
      "state": {
       "layout": "IPY_MODEL_c882d2bc77104ecba1af8560dcad9deb",
       "outputs": [
        {
         "data": {
          "image/png": "iVBORw0KGgoAAAANSUhEUgAAAdMAAAHICAYAAAAV7wD1AAAABHNCSVQICAgIfAhkiAAAAAlwSFlz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\nAABJRU5ErkJggg==\n",
          "text/plain": "<matplotlib.figure.Figure at 0x104265e80>"
         },
         "metadata": {},
         "output_type": "display_data"
        }
       ]
      }
     }
    },
    "version_major": 2,
    "version_minor": 0
   }
  }
 },
 "nbformat": 4,
 "nbformat_minor": 4
}
