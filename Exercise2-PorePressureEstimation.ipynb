{
 "cells": [
  {
   "cell_type": "markdown",
   "id": "b8bbc2e4-73db-4e2b-a7b6-619920ea8414",
   "metadata": {},
   "source": [
    "The following table contains the estimated bulk mass densities as a function of depth for an offshore location in Brazil. Water depth is 500m. Measurements indicate that porosity of shale layers estimated through resistivity measurements.\n",
    "\n",
    "|Depth (m)| Bulk mass density (kg/m$^3$) | Shale porosity |\n",
    "|:-------:|:-------------------------:|:--------------:|\n",
    "| 0   | 1025 | | \n",
    "| 100 | 1026 | |\n",
    "| 200 | 1026 | |\n",
    "| 300 | 1030 | |\n",
    "| 400 | 1030 | |\n",
    "| 500 | 1031 | |\n",
    "| 600 | 1900 | |\n",
    "| 700 | 2190 | |\n",
    "| 800 | 2200 | |\n",
    "| 900 | 2230 | |\n",
    "| 1000| 2235 | |\n",
    "| 1100| 2240 | |\n",
    "| 1200| 2275 | 0.305 |\n",
    "| 1300| 2305 | 0.297 |\n",
    "| 1400| 2310 | 0.286 |\n",
    "| 1500| 2308 | 0.281 |\n",
    "| 1600| 2310 | 0.285 |\n",
    "| 1700| 2305 | 0.293 |\n",
    "| 1800| 2310 | 0.307 |\n",
    "| 1900| 2324 | 0.305 |\n",
    "| 2000| 2319 | 0.298 |\n",
    "\n",
    "\n",
    " a. Plot $S_v$ as a function of depth (in SI units)\n",
    "\n",
    " b. Plot hydrostatic water pressure as a function of depth. Assume the density of brine water is 1031 kg/m$^3$\n",
    "in the rock pore space (in SI units).\n",
    "\n",
    " c. Additional compaction lab measurements on shale cores indicate a good fit of the porosity-effective vertical stress relation through the equation $\\phi = \\phi_0 \\exp(-\\beta (S_v - P_p))$, with parameters $\\phi_0=0.38$ and $\\beta = 3 \\cdot 10^{-2}$ MPa$^{-1}$. Estimate the pore pressure in the shale. Is there overpressure? At what depth does it start?\n",
    "\n",
    " d. Plot vertical effective strees, $\\sigma_v^{eff}$ as a function of depth (in SI units)."
   ]
  }
 ],
 "metadata": {
  "kernelspec": {
   "display_name": "Python 3 (ipykernel)",
   "language": "python",
   "name": "python3"
  },
  "language_info": {
   "codemirror_mode": {
    "name": "ipython",
    "version": 3
   },
   "file_extension": ".py",
   "mimetype": "text/x-python",
   "name": "python",
   "nbconvert_exporter": "python",
   "pygments_lexer": "ipython3",
   "version": "3.11.3"
  }
 },
 "nbformat": 4,
 "nbformat_minor": 5
}
