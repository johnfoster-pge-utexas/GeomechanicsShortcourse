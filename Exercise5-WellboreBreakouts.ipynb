{
 "cells": [
  {
   "cell_type": "markdown",
   "metadata": {},
   "source": [
    "Given the reservior conditions below, and a desire to keep beakout widths as small as possible for wellbore stability, which direction and type of well (e.g. vertical, horizotonal, $\\phi = 20^\\circ$, etc.) would be the safest to drill.  Support your recommendation with a figure.  Preferably one that quantatively shows the expected wellbore breakout widths for a given drilling trajetory.\n",
    "\n",
    "You can assume a Mohr-Coloumb failure criterion with an unconfined compressive strength of the rock of $145$ MPa and an internal friction of $\\mu_I = 1$.  The Poisson ratio is $\\nu = 0.2$.\n",
    "\n",
    "$S_{Hmax} = 115$ MPa in the direction N$30^\\circ$E\n",
    "\n",
    "$S_{hmin} = 90$ MPa\n",
    "\n",
    "$S_{v} = 70$ MPa\n",
    "\n",
    "$P_p = P_m = 33$ MPa"
   ]
  }
 ],
 "metadata": {
  "kernelspec": {
   "display_name": "Python 3 (ipykernel)",
   "language": "python",
   "name": "python3"
  },
  "language_info": {
   "codemirror_mode": {
    "name": "ipython",
    "version": 3
   },
   "file_extension": ".py",
   "mimetype": "text/x-python",
   "name": "python",
   "nbconvert_exporter": "python",
   "pygments_lexer": "ipython3",
   "version": "3.10.8"
  }
 },
 "nbformat": 4,
 "nbformat_minor": 1
}
