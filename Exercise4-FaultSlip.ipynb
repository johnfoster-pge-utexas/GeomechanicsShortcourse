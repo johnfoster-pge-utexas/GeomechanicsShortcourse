{
 "cells": [
  {
   "cell_type": "markdown",
   "id": "638977b6-7635-4aff-a882-865fbb0b7928",
   "metadata": {},
   "source": [
    "# Problem 1\n",
    "\n",
    "A major fault in your reservoir has strike N35$^\\circ$W and dip 60$^\\circ$ from horizontal. $S_{hmin}$ in this area acts along 020$^\\circ$, and in situ stresses are $S_{hmin}=70$ MPa, $S_{Hmax}=80$ MPa, $S_v=65$ MPa.   Assume the pore pressure $P_p =30$ MPa. Is the fault likely to slip if the respective frictional coefficient is $\\mu=0.7$?"
   ]
  },
  {
   "cell_type": "markdown",
   "id": "2dc5d940-fcd5-4091-8f84-a8b0d85dd858",
   "metadata": {},
   "source": [
    "# Problem 2\n",
    "\n",
    "Assuming the same reservior conditions as Problem 1, write a computer code that can compute the resolved shear stress magnitude and normal effective stress on a fault characterized by the strike direction and dip angle.  Now randomly generate 10000 faults (use a statistical distribution to choose random pairs of strike and dip) and plot the results on a Mohr diagram (i.e. shear stress as a function of normal stress).  Where do near vertical strike-slip faults appear on this diagram? Where do the oblique-slip faults fall?"
   ]
  },
  {
   "cell_type": "markdown",
   "id": "762fbe79-25f5-437c-8dd1-a8a079ab02c7",
   "metadata": {},
   "source": [
    "# Problem 3\n",
    "\n",
    "Repeat Problem 2 but make $S_{hmin}=S_{Hmax}=45$ MPa (i.e. stress isotropic in the horizontal plane. How has the Mohr diagram changed? Is this still a 3D problem?"
   ]
  }
 ],
 "metadata": {
  "kernelspec": {
   "display_name": "Python 3 (ipykernel)",
   "language": "python",
   "name": "python3"
  },
  "language_info": {
   "codemirror_mode": {
    "name": "ipython",
    "version": 3
   },
   "file_extension": ".py",
   "mimetype": "text/x-python",
   "name": "python",
   "nbconvert_exporter": "python",
   "pygments_lexer": "ipython3",
   "version": "3.11.3"
  }
 },
 "nbformat": 4,
 "nbformat_minor": 5
}
