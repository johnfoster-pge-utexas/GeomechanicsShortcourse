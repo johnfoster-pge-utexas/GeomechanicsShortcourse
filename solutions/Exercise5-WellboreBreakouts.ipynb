{
 "cells": [
  {
   "cell_type": "markdown",
   "metadata": {},
   "source": [
    "Given the reservior conditions below, and a desire to keep beakout widths as small as possible for wellbore stability, which direction and type of well (e.g. vertical, horizotonal, $\\phi = 20^\\circ$, etc.) would be the safest to drill.  Support your recommendation with a figure.  Preferably one that quantatively shows the expected wellbore breakout widths for a given drilling trajetory.\n",
    "\n",
    "You can assume a Mohr-Coloumb failure criterion with an unconfined compressive strength of the rock of $145$ MPa and an internal friction of $\\mu_I = 1$.  The Poisson ratio is $\\nu = 0.2$.\n",
    "\n",
    "$S_{Hmax} = 115$ MPa in the direction N$30^\\circ$E\n",
    "\n",
    "$S_{hmin} = 90$ MPa\n",
    "\n",
    "$S_{v} = 70$ MPa\n",
    "\n",
    "$P_p = P_m = 33$ MPa"
   ]
  },
  {
   "cell_type": "markdown",
   "metadata": {},
   "source": [
    "**Solution**\n",
    "\n",
    "First we will define the functions we need for all of the operations."
   ]
  },
  {
   "cell_type": "code",
   "execution_count": 1,
   "metadata": {
    "collapsed": true
   },
   "outputs": [],
   "source": [
    "import numpy as np\n",
    "\n",
    "\n",
    "def compute_Sg(S, angles=(0,0,0)):\n",
    "    \n",
    "    alpha, beta, gamma = np.radians(angles)\n",
    "    \n",
    "    Rg = np.array([[np.cos(alpha) * np.cos(beta),  \n",
    "                    np.sin(alpha) * np.cos(beta),  \n",
    "                    -np.sin(beta)],\n",
    "                   [np.cos(alpha) * np.sin(beta) * np.sin(gamma) - np.sin(alpha) * np.cos(gamma), \n",
    "                    np.sin(alpha) * np.sin(beta) * np.sin(gamma) + np.cos(alpha) * np.cos(gamma),  \n",
    "                    np.cos(beta) * np.sin(gamma)],\n",
    "                   [np.cos(alpha) * np.sin(beta) * np.cos(gamma) + np.sin(alpha) * np.sin(gamma), \n",
    "                    np.sin(alpha) * np.sin(beta) * np.cos(gamma) - np.cos(alpha) * np.sin(gamma),  \n",
    "                    np.cos(beta) * np.cos(gamma)]])\n",
    "                  \n",
    "    return np.dot(Rg.T, np.dot(S,Rg))\n",
    "\n",
    "\n",
    "def compute_Sb(S, angles_G=(0,0,0), angles_B=(0,0)):\n",
    "    \n",
    "    delta, phi = np.radians(angles_B)\n",
    "    \n",
    "    Rb = np.array([[ np.cos(delta) * np.cos(phi),  np.sin(delta) * np.cos(phi), -np.sin(phi)],\n",
    "                   [ -np.sin(delta), np.cos(delta),  0.0],\n",
    "                   [ np.cos(delta) * np.sin(phi), np.sin(delta) * np.sin(phi), np.cos(phi)]])\n",
    "    \n",
    "    Sg = compute_Sg(S, angles_G)\n",
    "    \n",
    "    return np.dot(Rb, np.dot(Sg,Rb.T))\n",
    "\n",
    "\n",
    "def compute_wellbore_stress(S, nu, theta, DP):\n",
    "    \n",
    "    theta = np.radians(theta)\n",
    "    \n",
    "    sZZ = (S[2,2] -  2. * nu * (S[0,0] - S[1,1]) * np.cos(2 * theta) - \n",
    "           4. * nu * S[0,1] * np.sin(2 * theta))\n",
    "    \n",
    "    stt = (S[0,0] + S[1,1] - 2. * (S[0,0] - S[1,1]) * np.cos(2 * theta) - \n",
    "           4 * S[0,1] * np.sin(2. * theta) - DP)\n",
    "    \n",
    "    ttz = 2. * (S[1,2] * np.cos(theta) - S[0,2] * np.sin(theta))\n",
    "    \n",
    "    srr = DP\n",
    "    \n",
    "    return (sZZ, stt, ttz, srr)\n",
    "\n",
    "\n",
    "def compute_max_tangent_stress(S, nu, theta, DP):\n",
    "    \n",
    "    sZZ, stt, ttz, srr = compute_wellbore_stress(S, nu, theta, DP)\n",
    "    \n",
    "    return 0.5 * (sZZ + stt + np.sqrt((sZZ - stt) ** 2. + 4.0 * ttz ** 2.))\n",
    "\n",
    "\n",
    "def compute_min_tangent_stress(S, nu, theta, DP):\n",
    "    \n",
    "    sZZ, stt, ttz, srr = compute_wellbore_stress(S, nu, theta, DP)\n",
    "    \n",
    "    return 0.5 * (sZZ + stt - np.sqrt((sZZ - stt) ** 2. + 4.0 * ttz ** 2.))\n",
    "\n",
    "\n",
    "def compute_breakout_width(S, Pp, Pm, nu, C0, mu, angles_G=(0,0,0), angles_B=(0,0)):\n",
    "    \n",
    "    Sb = compute_Sb(S, angles_G, angles_B)\n",
    "    \n",
    "    Sb_eff = Sb - Pp * np.eye(3)\n",
    "    \n",
    "    theta = np.linspace(0, 360, num=90)\n",
    "    \n",
    "    smax = np.array([ compute_max_tangent_stress(Sb_eff, nu, i, (Pm-Pp)) for i in theta])\n",
    "    smin = np.array([ compute_min_tangent_stress(Sb_eff, nu, i, (Pm-Pp)) for i in theta])\n",
    "    DP_arr = np.ones_like(smin) * (Pm-Pp)\n",
    "    \n",
    "    sigma1 = (np.array([smax, smin, DP_arr]).T).max(axis=1)\n",
    "    sigma3 = (np.array([smax, smin, DP_arr]).T).min(axis=1)\n",
    "    \n",
    "    breakout_bool_array = C0 < (sigma1) - ( np.sqrt(mu ** 2 + 1) + mu ) ** 2. * (sigma3)\n",
    "    \n",
    "    return np.round(breakout_bool_array.sum() * 2.0)"
   ]
  },
  {
   "cell_type": "code",
   "execution_count": 2,
   "metadata": {
    "collapsed": true
   },
   "outputs": [],
   "source": [
    "S = np.array([[115, 0, 0],[0,90,0],[0,0,70]])\n",
    "\n",
    "delta = np.linspace(0, 360, num=50)\n",
    "phi = np.linspace(0, 90, num=50)\n",
    "\n",
    "res = np.array([ (np.sin(np.radians(d))*np.sin(np.radians(p)), \n",
    "                  np.cos(np.radians(d))*np.sin(np.radians(p)), \n",
    "                  compute_breakout_width(S, 33, 33, 0.2, 145, 1.0, angles_G=(30,0,0), angles_B=(d,p))) \n",
    "                  for d in delta for p in phi])"
   ]
  },
  {
   "cell_type": "code",
   "execution_count": 3,
   "metadata": {},
   "outputs": [
    {
     "data": {
      "image/png": "[encoded data removed]",
      "text/plain": [
       "<matplotlib.figure.Figure at 0x103f289e8>"
      ]
     },
     "metadata": {},
     "output_type": "display_data"
    }
   ],
   "source": [
    "import scipy.interpolate\n",
    "import matplotlib.pyplot as plt\n",
    "\n",
    "x = np.linspace(-1,1, num=500)\n",
    "y = np.linspace(-1,1, num=500)\n",
    "grid_x, grid_y = np.meshgrid(x,y)\n",
    "\n",
    "X = res[:,0]\n",
    "Y = res[:,1]\n",
    "disp_x = scipy.interpolate.griddata((X, Y), res[:,2], (grid_x, grid_y), method='linear')\n",
    "plt.figure()\n",
    "plt.gca().set_aspect('equal')\n",
    "plt.contourf(grid_x, grid_y, disp_x)#,levels=np.linspace(75,180,20))\n",
    "plt.colorbar();\n",
    "plt.title(\"Breakout width\");"
   ]
  },
  {
   "cell_type": "markdown",
   "metadata": {},
   "source": [
    "In this case, the safest recommentation would be to drill horizontal in the direction of $S_{Hmax}$. "
   ]
  }
 ],
 "metadata": {
  "kernelspec": {
   "display_name": "Python 3 (ipykernel)",
   "language": "python",
   "name": "python3"
  },
  "language_info": {
   "codemirror_mode": {
    "name": "ipython",
    "version": 3
   },
   "file_extension": ".py",
   "mimetype": "text/x-python",
   "name": "python",
   "nbconvert_exporter": "python",
   "pygments_lexer": "ipython3",
   "version": "3.9.16"
  }
 },
 "nbformat": 4,
 "nbformat_minor": 1
}
