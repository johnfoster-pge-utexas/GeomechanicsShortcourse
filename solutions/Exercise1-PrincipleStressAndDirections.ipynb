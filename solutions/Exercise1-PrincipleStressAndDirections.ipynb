{
 "cells": [
  {
   "cell_type": "markdown",
   "metadata": {},
   "source": [
    "Determine the principle stresses and directions for the following stress tensors:\n",
    "\n",
    " a. $$\\mathbf{S} = \\begin{bmatrix} 18 & 0 & 24 \\\\ 0 & -50 & 0 \\\\ 24 & 0 & 32 \\end{bmatrix}$$\n",
    " \n",
    " b. $$\\mathbf{S} = \\begin{bmatrix} 3 & -10 & 0 \\\\ -10 & 0 & 30 \\\\ 0 & 30 & -27 \\end{bmatrix}$$\n",
    " \n",
    " c. $$\\mathbf{S} = \\begin{bmatrix} 2 & -1 & 1 \\\\ -1 & 0 & 1 \\\\ 1 & 1 & -2 \\end{bmatrix}$$\n",
    " \n",
    " Work (a) by hand for practice.  You can use a computer to solve (b) and (c) if you wish.\n",
    " \n",
    " **Solution:**"
   ]
  },
  {
   "cell_type": "code",
   "execution_count": 1,
   "metadata": {},
   "outputs": [
    {
     "name": "stdout",
     "output_type": "stream",
     "text": [
      "Eigenvalues: \n",
      " [  0.  50. -50.]\n",
      "Eigenvectors: \n",
      " [[-0.8 -0.6  0. ]\n",
      " [ 0.   0.   1. ]\n",
      " [ 0.6 -0.8  0. ]]\n"
     ]
    }
   ],
   "source": [
    "import numpy as np\n",
    "\n",
    "values, vectors = np.linalg.eig(np.array([[18,0,24],[0, -50, 0],[24, 0, 32]]))\n",
    "\n",
    "print(\"Eigenvalues: \\n\", np.real(values))\n",
    "print(\"Eigenvectors: \\n\", vectors)"
   ]
  },
  {
   "cell_type": "code",
   "execution_count": 2,
   "metadata": {},
   "outputs": [
    {
     "name": "stdout",
     "output_type": "stream",
     "text": [
      "Eigenvalues: \n",
      " [ 2.30000000e+01  2.66453526e-15 -4.70000000e+01]\n",
      "Eigenvectors: \n",
      " [[ 0.3940552   0.9124486  -0.11026357]\n",
      " [-0.78811041  0.27373458 -0.55131785]\n",
      " [-0.47286624  0.30414953  0.82697677]]\n"
     ]
    }
   ],
   "source": [
    "values, vectors = np.linalg.eig(np.array([[3,-10,0],[-10, 0, 30],[0, 30, -27]]))\n",
    "\n",
    "print(\"Eigenvalues: \\n\", np.real(values))\n",
    "print(\"Eigenvectors: \\n\", vectors)"
   ]
  },
  {
   "cell_type": "code",
   "execution_count": 3,
   "metadata": {},
   "outputs": [
    {
     "name": "stdout",
     "output_type": "stream",
     "text": [
      "Eigenvalues: \n",
      " [-2.77845712  2.48928857  0.28916855]\n",
      "Eigenvectors: \n",
      " [[ 0.26826216  0.93698901  0.22380127]\n",
      " [ 0.41025777 -0.32131516  0.85348997]\n",
      " [-0.87162146  0.13714285  0.47060372]]\n"
     ]
    }
   ],
   "source": [
    "values, vectors = np.linalg.eig(np.array([[2,-1,1],[-1, 0, 1],[1, 1, -2]]))\n",
    "\n",
    "print(\"Eigenvalues: \\n\", np.real(values))\n",
    "print(\"Eigenvectors: \\n\", vectors)"
   ]
  }
 ],
 "metadata": {
  "kernelspec": {
   "display_name": "Python 3 (ipykernel)",
   "language": "python",
   "name": "python3"
  },
  "language_info": {
   "codemirror_mode": {
    "name": "ipython",
    "version": 3
   },
   "file_extension": ".py",
   "mimetype": "text/x-python",
   "name": "python",
   "nbconvert_exporter": "python",
   "pygments_lexer": "ipython3",
   "version": "3.11.3"
  }
 },
 "nbformat": 4,
 "nbformat_minor": 4
}
